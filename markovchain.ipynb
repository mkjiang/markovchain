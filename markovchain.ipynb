{
 "cells": [
  {
   "cell_type": "code",
   "execution_count": 14,
   "metadata": {
    "collapsed": true,
    "deletable": true,
    "editable": true
   },
   "outputs": [],
   "source": [
    "# A Simple Markov Chain text generator\n",
    "\n",
    "import re\n",
    "import random\n",
    "import pickle"
   ]
  },
  {
   "cell_type": "code",
   "execution_count": 86,
   "metadata": {
    "collapsed": false,
    "deletable": true,
    "editable": true
   },
   "outputs": [],
   "source": [
    "# train a text model\n",
    "def train(input_file, output_file, n_states = 2):\n",
    "    text = open(input_file)\n",
    "\n",
    "    state_dict = {}\n",
    "\n",
    "    for line in text.readlines():\n",
    "        words = []\n",
    "        \n",
    "        # Looking for alphabets with apostrophes and hypens. We need period too to mark the end of a sentence.\n",
    "        for word in re.findall(r\"[a-zA-Z'-]+|\\.\", line):\n",
    "            \n",
    "            # Stripping hypen for begining and end of a word\n",
    "            word = word.strip(\"'-\")\n",
    "            words.append(word)\n",
    "            \n",
    "        for i in range(len(words)-n_states):\n",
    "            \n",
    "            # Using word pairs tuple as keys, which are states\n",
    "            key = tuple(words[i:i+n_states])\n",
    "            \n",
    "            # Storing the next word as a value, which are to form the next state\n",
    "            state_dict.setdefault(key, []).append(words[i+n_states])\n",
    "    \n",
    "    # Save the text model for later use\n",
    "    pickle.dump(state_dict, open(output_file, 'wb'))"
   ]
  },
  {
   "cell_type": "code",
   "execution_count": 146,
   "metadata": {
    "collapsed": false,
    "deletable": true,
    "editable": true
   },
   "outputs": [],
   "source": [
    "# Generate a sentence based on the trained model\n",
    "def generate(model, n_states = 2, max_len = 100):\n",
    "    \n",
    "    period = '.'\n",
    "    \n",
    "    # Loading text model\n",
    "    state_dict = pickle.load(open(model, 'rb'))\n",
    "    \n",
    "    # Pick a word as the start of the sentence\n",
    "    words = random.choice([k for k in state_dict.keys() if k[0] == period])\n",
    "    sentence = ['{} '.format(x) for x in list(words[1:n_states])]\n",
    "    sentence[-1] = sentence[-1].strip()\n",
    "\n",
    "    for i in range(max_len):\n",
    "\n",
    "        # There is a chance the state is not in the dictionary\n",
    "        if words not in state_dict:\n",
    "            sentence.append(period)\n",
    "            break\n",
    "        \n",
    "        next_word = random.choice(state_dict[words])\n",
    "        \n",
    "        # Keep appending the next word (uppdating the states) until max_len or a period is reached \n",
    "        if next_word == period:\n",
    "            sentence.append(next_word)\n",
    "            break\n",
    "        else:\n",
    "            sentence.append(' ' + next_word)\n",
    "\n",
    "        temp = list(words[1:n_states])\n",
    "        temp.append(next_word)\n",
    "        words = tuple(temp)\n",
    "    \n",
    "    print(''.join(sentence))"
   ]
  },
  {
   "cell_type": "code",
   "execution_count": 153,
   "metadata": {
    "collapsed": false
   },
   "outputs": [],
   "source": [
    "# train text file\n",
    "input_file = 'animalfarm.txt'\n",
    "\n",
    "# output model file\n",
    "output_file = 'markov.pickle'\n",
    "\n",
    "# number of states\n",
    "n_states = 5\n",
    "\n",
    "# Let's train some text\n",
    "train(input_file, output_file, n_states)"
   ]
  },
  {
   "cell_type": "code",
   "execution_count": 158,
   "metadata": {
    "collapsed": false
   },
   "outputs": [
    {
     "name": "stdout",
     "output_type": "stream",
     "text": [
      "It is for YOUR sake that we drink that milk and eat those.\n"
     ]
    }
   ],
   "source": [
    "# Now generate some text\n",
    "generate(output_file, n_states)"
   ]
  }
 ],
 "metadata": {
  "kernelspec": {
   "display_name": "Python 3",
   "language": "python",
   "name": "python3"
  },
  "language_info": {
   "codemirror_mode": {
    "name": "ipython",
    "version": 3
   },
   "file_extension": ".py",
   "mimetype": "text/x-python",
   "name": "python",
   "nbconvert_exporter": "python",
   "pygments_lexer": "ipython3",
   "version": "3.6.0"
  }
 },
 "nbformat": 4,
 "nbformat_minor": 2
}
