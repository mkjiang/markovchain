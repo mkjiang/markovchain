{
 "cells": [
  {
   "cell_type": "code",
   "execution_count": 14,
   "metadata": {
    "collapsed": true,
    "deletable": true,
    "editable": true
   },
   "outputs": [],
   "source": [
    "# A Simple Markov Chain text generator\n",
    "\n",
    "import re\n",
    "import random\n",
    "import pickle"
   ]
  },
  {
   "cell_type": "code",
   "execution_count": 25,
   "metadata": {
    "collapsed": true
   },
   "outputs": [],
   "source": [
    "# train text file\n",
    "input_file = 'animalfarm.txt'\n",
    "\n",
    "# output model file\n",
    "output_file = 'markov.pickle'\n",
    "\n",
    "# number of states\n",
    "n_states = 2"
   ]
  },
  {
   "cell_type": "code",
   "execution_count": 31,
   "metadata": {
    "collapsed": false,
    "deletable": true,
    "editable": true
   },
   "outputs": [],
   "source": [
    "# train a text model\n",
    "def train(input_file, output_file, n_states = 2):\n",
    "    text = open(input_file)\n",
    "\n",
    "    state_dict = {}\n",
    "\n",
    "    for line in text.readlines():\n",
    "        words = []\n",
    "        \n",
    "        # Looking for alphabets with apostrophes and hypens. We need period too to mark the end of a sentence.\n",
    "        for word in re.findall(r\"[a-zA-Z'-]+|\\.\", line):\n",
    "            \n",
    "            # Stripping hypen for begining and end of a word\n",
    "            word = word.strip(\"'-\")\n",
    "            words.append(word)\n",
    "            \n",
    "        for i in range(len(words)-n_states):\n",
    "            \n",
    "            # Using word pairs tuple as keys, which are states\n",
    "            key = tuple(words[i:i+n_states])\n",
    "            \n",
    "            # Storing the next word as a value, which are to form the next state\n",
    "            state_dict.setdefault(key, []).append(words[i+n_states])\n",
    "    \n",
    "    # Save the text model for later use\n",
    "    pickle.dump(state_dict, open(output_file, 'wb'))"
   ]
  },
  {
   "cell_type": "code",
   "execution_count": 36,
   "metadata": {
    "collapsed": false,
    "deletable": true,
    "editable": true
   },
   "outputs": [],
   "source": [
    "# Generate a sentence based on the trained model\n",
    "def generate(model, max_len = 100):\n",
    "    \n",
    "    period = '.'\n",
    "    \n",
    "    # Loading text model\n",
    "    state_dict = pickle.load(open(model, 'rb'))\n",
    "    \n",
    "    # Pick a word as the start of the sentence\n",
    "    word1, word2 = random.choice([k for k in state_dict.keys() if k[0] == period])\n",
    "    sentence = [word2]\n",
    "\n",
    "    for i in range(max_len):\n",
    "\n",
    "        # There is a chance the state is not in the dictionary\n",
    "        if (word1,word2) not in state_dict:\n",
    "            sentence.append(period)\n",
    "            break\n",
    "        \n",
    "        next_word = random.choice(state_dict[(word1,word2)])\n",
    "        \n",
    "        # Keep appending the next word (uppdating the states) until max_len or a period is reached \n",
    "        if next_word == period:\n",
    "            sentence.append(next_word)\n",
    "            break\n",
    "        else:\n",
    "            sentence.append(' ' + next_word)\n",
    "        word1, word2 = word2, next_word\n",
    "\n",
    "    print(''.join(sentence))"
   ]
  },
  {
   "cell_type": "code",
   "execution_count": 33,
   "metadata": {
    "collapsed": false
   },
   "outputs": [],
   "source": [
    "train(input_file, 2, output_file)"
   ]
  },
  {
   "cell_type": "code",
   "execution_count": 37,
   "metadata": {
    "collapsed": false
   },
   "outputs": [
    {
     "name": "stdout",
     "output_type": "stream",
     "text": [
      "During the next moment he and his four men were seen to form the words.\n"
     ]
    }
   ],
   "source": [
    "generate(output_file, 50)"
   ]
  }
 ],
 "metadata": {
  "kernelspec": {
   "display_name": "Python 3",
   "language": "python",
   "name": "python3"
  },
  "language_info": {
   "codemirror_mode": {
    "name": "ipython",
    "version": 3
   },
   "file_extension": ".py",
   "mimetype": "text/x-python",
   "name": "python",
   "nbconvert_exporter": "python",
   "pygments_lexer": "ipython3",
   "version": "3.6.0"
  }
 },
 "nbformat": 4,
 "nbformat_minor": 2
}
